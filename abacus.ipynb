{
 "cells": [
  {
   "cell_type": "markdown",
   "metadata": {},
   "source": [
    "### Abacus TPOT library\n",
    "\n",
    "Document linked [here](https://docs.google.com/document/d/1f7V_hkXMGy4uBxbgvzDsLh-uTq6w6WlbIhdOHNKhfzA/edit#heading=h.v2nfj0vi1g5c).\n",
    "\n",
    "Let's start with a simple **help** module"
   ]
  },
  {
   "cell_type": "code",
   "execution_count": 1,
   "metadata": {},
   "outputs": [
    {
     "name": "stdout",
     "output_type": "stream",
     "text": [
      "Abacus is ready to go ...\n"
     ]
    }
   ],
   "source": [
    "import abacus_tpot as abacus\n",
    "\n",
    "print(abacus.help())"
   ]
  },
  {
   "cell_type": "markdown",
   "metadata": {},
   "source": [
    "Going on to **Standard Analysis** but first:\n",
    "\n",
    "Let's list the core outcomes and have empty functions for these."
   ]
  },
  {
   "cell_type": "markdown",
   "metadata": {
    "collapsed": true
   },
   "source": []
  }
 ],
 "metadata": {
  "kernelspec": {
   "display_name": "Python 3",
   "language": "python",
   "name": "python3"
  },
  "language_info": {
   "codemirror_mode": {
    "name": "ipython",
    "version": 3
   },
   "file_extension": ".py",
   "mimetype": "text/x-python",
   "name": "python",
   "nbconvert_exporter": "python",
   "pygments_lexer": "ipython3",
   "version": "3.6.1"
  }
 },
 "nbformat": 4,
 "nbformat_minor": 2
}
