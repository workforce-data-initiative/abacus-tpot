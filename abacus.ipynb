{
 "cells": [
  {
   "cell_type": "markdown",
   "metadata": {},
   "source": [
    "### Abacus TPOT library\n",
    "\n",
    "Document linked [here](https://docs.google.com/document/d/1f7V_hkXMGy4uBxbgvzDsLh-uTq6w6WlbIhdOHNKhfzA/edit#heading=h.v2nfj0vi1g5c).\n",
    "\n",
    "Let's start with a simple **help** module"
   ]
  },
  {
   "cell_type": "code",
   "execution_count": 1,
   "metadata": {},
   "outputs": [
    {
     "name": "stdout",
     "output_type": "stream",
     "text": [
      "Help on package abacus_tpot:\n",
      "\n",
      "NAME\n",
      "    abacus_tpot\n",
      "\n",
      "PACKAGE CONTENTS\n",
      "    input_db (package)\n",
      "    outcomes (package)\n",
      "    tests (package)\n",
      "    tpot_config\n",
      "\n",
      "FILE\n",
      "    /Users/stanmd/Projects/success/tpot-abacus/abacus_tpot/__init__.py\n",
      "\n",
      "\n"
     ]
    }
   ],
   "source": [
    "import abacus_tpot as abacus\n",
    "\n",
    "help(abacus)"
   ]
  },
  {
   "cell_type": "code",
   "execution_count": 2,
   "metadata": {},
   "outputs": [
    {
     "data": {
      "text/plain": [
       "['__builtins__',\n",
       " '__cached__',\n",
       " '__doc__',\n",
       " '__file__',\n",
       " '__loader__',\n",
       " '__name__',\n",
       " '__package__',\n",
       " '__path__',\n",
       " '__spec__',\n",
       " 'participants',\n",
       " 'wage_table']"
      ]
     },
     "execution_count": 2,
     "metadata": {},
     "output_type": "execute_result"
    }
   ],
   "source": [
    "dir(abacus.input_db)"
   ]
  },
  {
   "cell_type": "code",
   "execution_count": 3,
   "metadata": {},
   "outputs": [
    {
     "name": "stdout",
     "output_type": "stream",
     "text": [
      "Help on module abacus_tpot.input_db.participants in abacus_tpot.input_db:\n",
      "\n",
      "NAME\n",
      "    abacus_tpot.input_db.participants\n",
      "\n",
      "FUNCTIONS\n",
      "    filter_participants(df, provider_id=None, program_code=None, min_entry_date=None, max_entry_date=None, min_exit_date=None, max_exit_date=None, exit_type=None)\n",
      "    \n",
      "    get_participant_table()\n",
      "        Return a list of participant IDs in a given program ID\n",
      "\n",
      "FILE\n",
      "    /Users/stanmd/Projects/success/tpot-abacus/abacus_tpot/input_db/participants.py\n",
      "\n",
      "\n"
     ]
    }
   ],
   "source": [
    "help(abacus.input_db.participants)"
   ]
  },
  {
   "cell_type": "code",
   "execution_count": 4,
   "metadata": {},
   "outputs": [
    {
     "name": "stdout",
     "output_type": "stream",
     "text": [
      "Help on module abacus_tpot.input_db.wage_table in abacus_tpot.input_db:\n",
      "\n",
      "NAME\n",
      "    abacus_tpot.input_db.wage_table\n",
      "\n",
      "FUNCTIONS\n",
      "    get_wage_table(ids)\n",
      "        Return a table of wage data based on the transactional DB\n",
      "    \n",
      "    get_wages(ids)\n",
      "\n",
      "FILE\n",
      "    /Users/stanmd/Projects/success/tpot-abacus/abacus_tpot/input_db/wage_table.py\n",
      "\n",
      "\n"
     ]
    }
   ],
   "source": [
    "help(abacus.input_db.wage_table)"
   ]
  },
  {
   "cell_type": "code",
   "execution_count": 5,
   "metadata": {},
   "outputs": [
    {
     "data": {
      "text/plain": [
       "['__builtins__',\n",
       " '__cached__',\n",
       " '__doc__',\n",
       " '__file__',\n",
       " '__loader__',\n",
       " '__name__',\n",
       " '__package__',\n",
       " '__path__',\n",
       " '__spec__',\n",
       " 'wioa']"
      ]
     },
     "execution_count": 5,
     "metadata": {},
     "output_type": "execute_result"
    }
   ],
   "source": [
    "dir(abacus.outcomes)"
   ]
  },
  {
   "cell_type": "code",
   "execution_count": 6,
   "metadata": {},
   "outputs": [
    {
     "name": "stdout",
     "output_type": "stream",
     "text": [
      "Help on module abacus_tpot.outcomes.wioa in abacus_tpot.outcomes:\n",
      "\n",
      "NAME\n",
      "    abacus_tpot.outcomes.wioa\n",
      "\n",
      "FUNCTIONS\n",
      "    employed_n_quarters_after_exit(wage_table, participants, n_quarters)\n",
      "        Return the percent employed for the Nth quarter after the\n",
      "        program exit date, for a list of participants.\n",
      "    \n",
      "    mean_wage_n_quarters_after_exit(wage_table, participants, n_quarters)\n",
      "        Return the median total wage for the Nth quarter after the\n",
      "        program exit date, for a list of participants.\n",
      "    \n",
      "    median_wage_n_quarters_after_exit(wage_table, participants, n_quarters)\n",
      "        Return the median total wage for the Nth quarter after the\n",
      "        program exit date, for a list of participants.\n",
      "    \n",
      "    obtained_credentials(participant_table, participants)\n",
      "        Return the total number of credential obtainers in a participant list\n",
      "    \n",
      "    total_completed(participant_table, participants)\n",
      "        Return the total number of unique completers in a participant list\n",
      "    \n",
      "    total_exits(participant_table, participants)\n",
      "        Return the total number of unique exits in a participant list\n",
      "    \n",
      "    total_participants(participant_table, participants)\n",
      "        Return the total number of unique participants in a participant list\n",
      "\n",
      "FILE\n",
      "    /Users/stanmd/Projects/success/tpot-abacus/abacus_tpot/outcomes/wioa.py\n",
      "\n",
      "\n"
     ]
    }
   ],
   "source": [
    "help(abacus.outcomes.wioa)"
   ]
  },
  {
   "cell_type": "code",
   "execution_count": null,
   "metadata": {},
   "outputs": [],
   "source": []
  }
 ],
 "metadata": {
  "kernelspec": {
   "display_name": "Python 3",
   "language": "python",
   "name": "python3"
  },
  "language_info": {
   "codemirror_mode": {
    "name": "ipython",
    "version": 3
   },
   "file_extension": ".py",
   "mimetype": "text/x-python",
   "name": "python",
   "nbconvert_exporter": "python",
   "pygments_lexer": "ipython3",
   "version": "3.6.5"
  }
 },
 "nbformat": 4,
 "nbformat_minor": 2
}
